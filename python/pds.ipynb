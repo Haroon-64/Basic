{
 "cells": [
  {
   "cell_type": "code",
   "execution_count": 2,
   "id": "cf36d265",
   "metadata": {},
   "outputs": [],
   "source": [
    "import numpy as np\n",
    "import pandas as pd\n"
   ]
  },
  {
   "cell_type": "code",
   "execution_count": null,
   "id": "83122f40",
   "metadata": {},
   "outputs": [],
   "source": [
    "a = pd.DataFrame(np.random.randint(0, 100, size=(10, 4)), columns=list(\n",
    "    'ABCD'))  # dataframe is a 2D array with labeled axes\n",
    "print(a)\n"
   ]
  },
  {
   "cell_type": "code",
   "execution_count": null,
   "id": "6e8a1f0c",
   "metadata": {},
   "outputs": [],
   "source": [
    "# create custom indices for elemnts similar to dictionary  seies is a 1D array with labeled axes\n",
    "s = pd.Series([1, 2, 3, 4, 5, 6, 7, 8, 9], index=[\n",
    "              'a', 'b', 'c', 'd', 'e', 'f', 'g', 'h', 'i'])\n",
    "print(s, '\\n')\n",
    "print(s['a'])  # print 1st element'\n"
   ]
  },
  {
   "cell_type": "code",
   "execution_count": null,
   "id": "00a50555",
   "metadata": {},
   "outputs": [],
   "source": [
    "a = np.array([1, 2, 3, 4, 5, 6, 7, 8, 9], dtype=np.int64)\n",
    "print(s.values is a)\n",
    "pd.set_option('display.max_columns', None)  # display all columns\n"
   ]
  },
  {
   "cell_type": "code",
   "execution_count": null,
   "id": "afd661aa",
   "metadata": {},
   "outputs": [],
   "source": [
    "d = {'a': 1, 'b': 2, 'c': 3, 'd': 4, 'e': 5, 'f': 6, 'g': 7, 'h': 8, 'i': 9}\n",
    "# dictionaies can be passed to series similar to list in numpy\n",
    "d = pd.Series(d)\n",
    "print(d)\n",
    "# read csv file as dataframe\n",
    "dr = pd.read_csv('ref_pandas by keith/pokemon_data.csv')\n",
    "\n",
    "dr.head(3)  # print first 3 rows\n"
   ]
  },
  {
   "cell_type": "code",
   "execution_count": null,
   "id": "91987aff",
   "metadata": {},
   "outputs": [],
   "source": [
    "dr.tail(3)  # print last 3 rows\n"
   ]
  },
  {
   "cell_type": "code",
   "execution_count": null,
   "id": "864c699e",
   "metadata": {},
   "outputs": [],
   "source": [
    "dr.shape  # print shape of dataframe (attributes not methods)\n"
   ]
  },
  {
   "cell_type": "code",
   "execution_count": null,
   "id": "bf57ccaa",
   "metadata": {},
   "outputs": [],
   "source": [
    "dr.info()  # print info about dataframe\n",
    "# objects are usually strings\n"
   ]
  },
  {
   "cell_type": "code",
   "execution_count": null,
   "id": "89d1238a",
   "metadata": {},
   "outputs": [],
   "source": [
    "d2 = pd.DataFrame(dr)  # create a copy of dataframe\n",
    "# wrap text in dataframe\n",
    "pd.set_option('display.max_colwidth', None)  # display all columns\n",
    "d2.head(3)  # print first 3 rows\n"
   ]
  },
  {
   "cell_type": "code",
   "execution_count": null,
   "id": "074a7e6d",
   "metadata": {},
   "outputs": [],
   "source": [
    "# import data from excel\n",
    "d3 = pd.read_excel('ref_pandas by keith/pokemon_data.xlsx',\n",
    "                   sheet_name='pokemon_data')\n",
    "d3.head()\n"
   ]
  },
  {
   "cell_type": "code",
   "execution_count": null,
   "id": "435706a6",
   "metadata": {},
   "outputs": [],
   "source": [
    "# in normal pytthon\n",
    "di = {\"name\": [1, 2, 3, 4, 5, 6, 7, 8, 9], \"age\": [1, 2, 3, 4, 5, 6, 7, 8, 9]}\n",
    "print(di)\n",
    "\n",
    "di = pd.DataFrame(di)\n",
    "di.head()\n"
   ]
  },
  {
   "cell_type": "code",
   "execution_count": null,
   "id": "f45c582e",
   "metadata": {},
   "outputs": [],
   "source": [
    "print(dr['Name'][0:5])  # print first 5 rows of name column\n"
   ]
  },
  {
   "cell_type": "code",
   "execution_count": null,
   "id": "eb4ab9f5",
   "metadata": {},
   "outputs": [],
   "source": [
    "dr[['Name', 'Type 1', 'HP']]  # print multiple columns\n"
   ]
  },
  {
   "cell_type": "code",
   "execution_count": null,
   "id": "afde260b",
   "metadata": {},
   "outputs": [],
   "source": [
    "# integer location\n",
    "dr.iloc[0]  # print first rows\n"
   ]
  },
  {
   "cell_type": "code",
   "execution_count": null,
   "id": "60e38064",
   "metadata": {},
   "outputs": [],
   "source": [
    "dr.iloc[[0, 1, 2], [0, 1, 2]]  # print first 3 rows and first 3 columns\n"
   ]
  },
  {
   "cell_type": "code",
   "execution_count": null,
   "id": "78a6e356",
   "metadata": {},
   "outputs": [],
   "source": [
    "# label location\n",
    "# print first 3 rows and first 3 columns #slicing is inclusive and doesnt need brackets\n",
    "dr.loc[0:3, 'NAME':'HP']\n"
   ]
  },
  {
   "cell_type": "code",
   "execution_count": null,
   "id": "d6fd7af2",
   "metadata": {},
   "outputs": [],
   "source": [
    "dr.HP.value_counts()  # count number of occurences of each value in a column\n"
   ]
  },
  {
   "cell_type": "code",
   "execution_count": null,
   "id": "78f3d6fa",
   "metadata": {},
   "outputs": [],
   "source": [
    "din = dr.head(5)\n",
    "din.set_index('#')  # set index of dataframe\n"
   ]
  },
  {
   "cell_type": "code",
   "execution_count": null,
   "id": "53eca1fc",
   "metadata": {},
   "outputs": [],
   "source": [
    "din  # remains unchanged\n"
   ]
  },
  {
   "cell_type": "code",
   "execution_count": null,
   "id": "7efa68b2",
   "metadata": {},
   "outputs": [],
   "source": [
    "din.set_index('Name', inplace=True)  # set index of dataframe permanently\n",
    "din\n"
   ]
  },
  {
   "cell_type": "code",
   "execution_count": null,
   "id": "fb8b4f56",
   "metadata": {},
   "outputs": [],
   "source": [
    "din.reset_index(inplace=True)  # reset index of dataframe permanently\n",
    "din\n"
   ]
  },
  {
   "cell_type": "code",
   "execution_count": null,
   "id": "13938ad9",
   "metadata": {},
   "outputs": [],
   "source": [
    "# set index of dataframe while reading\n",
    "dr2 = pd.read_csv('ref_pandas by keith/pokemon_data.csv', index_col='#')\n",
    "dr2.head()\n"
   ]
  },
  {
   "cell_type": "code",
   "execution_count": null,
   "id": "edc5d3f7",
   "metadata": {},
   "outputs": [],
   "source": [
    "dr2.sort_index(ascending=True, inplace=True)  # sort dataframe by index\n"
   ]
  },
  {
   "cell_type": "code",
   "execution_count": null,
   "id": "20328d3c",
   "metadata": {},
   "outputs": [],
   "source": [
    "# filtering\n",
    "dr3 = dr2['HP'] == 70  # filter by column\n",
    "dr3\n"
   ]
  },
  {
   "cell_type": "code",
   "execution_count": null,
   "id": "ab2a328c",
   "metadata": {},
   "outputs": [],
   "source": [
    "dr2[dr3]  # print filtered dataframe  can aslo be written as dr2[dr2['HP']==70]\n"
   ]
  },
  {
   "cell_type": "code",
   "execution_count": null,
   "id": "3d5393b0",
   "metadata": {},
   "outputs": [],
   "source": [
    "# filter by multiple conditions\n",
    "dr2[(dr2['HP'] == 70) & (dr2['Type 1'] == 'Fire')]\n"
   ]
  },
  {
   "cell_type": "code",
   "execution_count": null,
   "id": "7ce20b85",
   "metadata": {},
   "outputs": [],
   "source": [
    "dr[dr['NAME'].str.contains('Mega')]  # filter by string using string methods\n"
   ]
  },
  {
   "cell_type": "code",
   "execution_count": null,
   "id": "ad67cba8",
   "metadata": {},
   "outputs": [],
   "source": [
    "dr.columns = [x.upper() for x in dr.columns]  # convert column names to uppercase\n",
    "dr"
   ]
  },
  {
   "cell_type": "code",
   "execution_count": null,
   "id": "9afcceb7",
   "metadata": {},
   "outputs": [],
   "source": [
    "dr.columns = dr.columns.str.replace(' ', '_')  # replace spaces with underscore"
   ]
  },
  {
   "cell_type": "code",
   "execution_count": null,
   "metadata": {},
   "outputs": [],
   "source": [
    "dr2.rename(columns={'HP': 'HP2'}, inplace=True)  # rename column"
   ]
  },
  {
   "cell_type": "code",
   "execution_count": null,
   "id": "5e128f0d",
   "metadata": {},
   "outputs": [],
   "source": [
    "dr2"
   ]
  },
  {
   "cell_type": "code",
   "execution_count": null,
   "id": "f124ab14",
   "metadata": {},
   "outputs": [],
   "source": [
    "dr2.loc[30, ['Name']]= 'Nidorina_'  # change value of a cell\n",
    "dr2\n"
   ]
  },
  {
   "cell_type": "code",
   "execution_count": null,
   "id": "5bb74502",
   "metadata": {},
   "outputs": [],
   "source": [
    "dr2.at[30,'Name'] = 'Nidorina'  # change value of a cell"
   ]
  },
  {
   "cell_type": "code",
   "execution_count": null,
   "id": "f058b334",
   "metadata": {},
   "outputs": [],
   "source": [
    "print(len(dr2.at[30,'NAME']))  # print length of string\n",
    "#or\n",
    "dr2['Name'].apply(len)  # apply function to each element of a column          apply is a method of series to apply a function to each element of a series"
   ]
  },
  {
   "cell_type": "code",
   "execution_count": null,
   "id": "47de360f",
   "metadata": {},
   "outputs": [],
   "source": [
    "dr2['Name']=dr2['Name'].apply(lambda x: x.upper())  # apply lambda function to each element of a column\n",
    "dr2\n"
   ]
  },
  {
   "cell_type": "code",
   "execution_count": null,
   "id": "d4d7d35e",
   "metadata": {},
   "outputs": [],
   "source": [
    "dr2.apply(len)    #will not work on dataframe rather print length of each column"
   ]
  },
  {
   "cell_type": "code",
   "execution_count": null,
   "id": "13bcd917",
   "metadata": {},
   "outputs": [],
   "source": [
    "drname=dr2[['Name','Name']]  # apply function to each element of a dataframe\n",
    "drname.applymap(len)  # applymap is a method of dataframe to apply a function to each element of a dataframe"
   ]
  },
  {
   "cell_type": "code",
   "execution_count": null,
   "id": "2d87a968",
   "metadata": {},
   "outputs": [],
   "source": [
    "drname"
   ]
  },
  {
   "cell_type": "code",
   "execution_count": null,
   "id": "abaeff8f",
   "metadata": {},
   "outputs": [],
   "source": [
    "drname.columns = ['Name1','Name2']  # rename columns"
   ]
  },
  {
   "cell_type": "code",
   "execution_count": null,
   "id": "68dff17a",
   "metadata": {},
   "outputs": [],
   "source": [
    "drname['Name1'].map({'BULBASAUR':'no'})  #change values of a column based on a dictionary but changes rest of the values to NaN"
   ]
  },
  {
   "cell_type": "code",
   "execution_count": null,
   "id": "b2d0c90e",
   "metadata": {},
   "outputs": [],
   "source": [
    "drname.Name2.replace({'BULBASAUR':'no'}) #only changes values of specified keys"
   ]
  },
  {
   "cell_type": "code",
   "execution_count": 66,
   "id": "b7bff1bc",
   "metadata": {},
   "outputs": [
    {
     "data": {
      "text/html": [
       "<div>\n",
       "<style scoped>\n",
       "    .dataframe tbody tr th:only-of-type {\n",
       "        vertical-align: middle;\n",
       "    }\n",
       "\n",
       "    .dataframe tbody tr th {\n",
       "        vertical-align: top;\n",
       "    }\n",
       "\n",
       "    .dataframe thead th {\n",
       "        text-align: right;\n",
       "    }\n",
       "</style>\n",
       "<table border=\"1\" class=\"dataframe\">\n",
       "  <thead>\n",
       "    <tr style=\"text-align: right;\">\n",
       "      <th></th>\n",
       "      <th>first</th>\n",
       "      <th>second</th>\n",
       "      <th>last</th>\n",
       "    </tr>\n",
       "  </thead>\n",
       "  <tbody>\n",
       "    <tr>\n",
       "      <th>0</th>\n",
       "      <td>1</td>\n",
       "      <td>1</td>\n",
       "      <td>one n</td>\n",
       "    </tr>\n",
       "    <tr>\n",
       "      <th>1</th>\n",
       "      <td>2</td>\n",
       "      <td>2</td>\n",
       "      <td>two w</td>\n",
       "    </tr>\n",
       "    <tr>\n",
       "      <th>2</th>\n",
       "      <td>3</td>\n",
       "      <td>3</td>\n",
       "      <td>three 2</td>\n",
       "    </tr>\n",
       "    <tr>\n",
       "      <th>3</th>\n",
       "      <td>4</td>\n",
       "      <td>4</td>\n",
       "      <td>four w</td>\n",
       "    </tr>\n",
       "    <tr>\n",
       "      <th>4</th>\n",
       "      <td>5</td>\n",
       "      <td>5</td>\n",
       "      <td>five 4</td>\n",
       "    </tr>\n",
       "    <tr>\n",
       "      <th>5</th>\n",
       "      <td>6</td>\n",
       "      <td>6</td>\n",
       "      <td>six g</td>\n",
       "    </tr>\n",
       "    <tr>\n",
       "      <th>6</th>\n",
       "      <td>7</td>\n",
       "      <td>7</td>\n",
       "      <td>seven f</td>\n",
       "    </tr>\n",
       "    <tr>\n",
       "      <th>7</th>\n",
       "      <td>8</td>\n",
       "      <td>8</td>\n",
       "      <td>eight 3</td>\n",
       "    </tr>\n",
       "    <tr>\n",
       "      <th>8</th>\n",
       "      <td>9</td>\n",
       "      <td>9</td>\n",
       "      <td>nine ss</td>\n",
       "    </tr>\n",
       "  </tbody>\n",
       "</table>\n",
       "</div>"
      ],
      "text/plain": [
       "   first  second     last\n",
       "0      1       1    one n\n",
       "1      2       2    two w\n",
       "2      3       3  three 2\n",
       "3      4       4   four w\n",
       "4      5       5   five 4\n",
       "5      6       6    six g\n",
       "6      7       7  seven f\n",
       "7      8       8  eight 3\n",
       "8      9       9  nine ss"
      ]
     },
     "execution_count": 66,
     "metadata": {},
     "output_type": "execute_result"
    }
   ],
   "source": [
    "df= {'first':[1,2,3,4,5,6,7,8,9],'second':[1,2,3,4,5,6,7,8,9],'last':['one n','two w','three 2','four w','five 4','six g','seven f','eight 3','nine ss']}\n",
    "df=pd.DataFrame(df)\n",
    "df\n"
   ]
  },
  {
   "cell_type": "code",
   "execution_count": 67,
   "id": "022dffe3",
   "metadata": {},
   "outputs": [
    {
     "data": {
      "text/html": [
       "<div>\n",
       "<style scoped>\n",
       "    .dataframe tbody tr th:only-of-type {\n",
       "        vertical-align: middle;\n",
       "    }\n",
       "\n",
       "    .dataframe tbody tr th {\n",
       "        vertical-align: top;\n",
       "    }\n",
       "\n",
       "    .dataframe thead th {\n",
       "        text-align: right;\n",
       "    }\n",
       "</style>\n",
       "<table border=\"1\" class=\"dataframe\">\n",
       "  <thead>\n",
       "    <tr style=\"text-align: right;\">\n",
       "      <th></th>\n",
       "      <th>first</th>\n",
       "      <th>second</th>\n",
       "      <th>last</th>\n",
       "      <th>added</th>\n",
       "    </tr>\n",
       "  </thead>\n",
       "  <tbody>\n",
       "    <tr>\n",
       "      <th>0</th>\n",
       "      <td>1</td>\n",
       "      <td>1</td>\n",
       "      <td>one n</td>\n",
       "      <td>2</td>\n",
       "    </tr>\n",
       "    <tr>\n",
       "      <th>1</th>\n",
       "      <td>2</td>\n",
       "      <td>2</td>\n",
       "      <td>two w</td>\n",
       "      <td>4</td>\n",
       "    </tr>\n",
       "    <tr>\n",
       "      <th>2</th>\n",
       "      <td>3</td>\n",
       "      <td>3</td>\n",
       "      <td>three 2</td>\n",
       "      <td>6</td>\n",
       "    </tr>\n",
       "    <tr>\n",
       "      <th>3</th>\n",
       "      <td>4</td>\n",
       "      <td>4</td>\n",
       "      <td>four w</td>\n",
       "      <td>8</td>\n",
       "    </tr>\n",
       "    <tr>\n",
       "      <th>4</th>\n",
       "      <td>5</td>\n",
       "      <td>5</td>\n",
       "      <td>five 4</td>\n",
       "      <td>10</td>\n",
       "    </tr>\n",
       "    <tr>\n",
       "      <th>5</th>\n",
       "      <td>6</td>\n",
       "      <td>6</td>\n",
       "      <td>six g</td>\n",
       "      <td>12</td>\n",
       "    </tr>\n",
       "    <tr>\n",
       "      <th>6</th>\n",
       "      <td>7</td>\n",
       "      <td>7</td>\n",
       "      <td>seven f</td>\n",
       "      <td>14</td>\n",
       "    </tr>\n",
       "    <tr>\n",
       "      <th>7</th>\n",
       "      <td>8</td>\n",
       "      <td>8</td>\n",
       "      <td>eight 3</td>\n",
       "      <td>16</td>\n",
       "    </tr>\n",
       "    <tr>\n",
       "      <th>8</th>\n",
       "      <td>9</td>\n",
       "      <td>9</td>\n",
       "      <td>nine ss</td>\n",
       "      <td>18</td>\n",
       "    </tr>\n",
       "  </tbody>\n",
       "</table>\n",
       "</div>"
      ],
      "text/plain": [
       "   first  second     last  added\n",
       "0      1       1    one n      2\n",
       "1      2       2    two w      4\n",
       "2      3       3  three 2      6\n",
       "3      4       4   four w      8\n",
       "4      5       5   five 4     10\n",
       "5      6       6    six g     12\n",
       "6      7       7  seven f     14\n",
       "7      8       8  eight 3     16\n",
       "8      9       9  nine ss     18"
      ]
     },
     "execution_count": 67,
     "metadata": {},
     "output_type": "execute_result"
    }
   ],
   "source": [
    "df['added']=df['first']+df['second']  #add values in 2 columns\n",
    "df"
   ]
  },
  {
   "cell_type": "code",
   "execution_count": 68,
   "id": "61c0972a",
   "metadata": {},
   "outputs": [],
   "source": [
    "df=df.drop(columns=['added'])  #drop a column   inplace removes whole dataframe???   to remove a row use drop(index=0)"
   ]
  },
  {
   "cell_type": "code",
   "execution_count": 69,
   "metadata": {},
   "outputs": [
    {
     "data": {
      "text/html": [
       "<div>\n",
       "<style scoped>\n",
       "    .dataframe tbody tr th:only-of-type {\n",
       "        vertical-align: middle;\n",
       "    }\n",
       "\n",
       "    .dataframe tbody tr th {\n",
       "        vertical-align: top;\n",
       "    }\n",
       "\n",
       "    .dataframe thead th {\n",
       "        text-align: right;\n",
       "    }\n",
       "</style>\n",
       "<table border=\"1\" class=\"dataframe\">\n",
       "  <thead>\n",
       "    <tr style=\"text-align: right;\">\n",
       "      <th></th>\n",
       "      <th>first</th>\n",
       "      <th>second</th>\n",
       "      <th>last</th>\n",
       "    </tr>\n",
       "  </thead>\n",
       "  <tbody>\n",
       "    <tr>\n",
       "      <th>0</th>\n",
       "      <td>1</td>\n",
       "      <td>1</td>\n",
       "      <td>one n</td>\n",
       "    </tr>\n",
       "    <tr>\n",
       "      <th>1</th>\n",
       "      <td>2</td>\n",
       "      <td>2</td>\n",
       "      <td>two w</td>\n",
       "    </tr>\n",
       "    <tr>\n",
       "      <th>2</th>\n",
       "      <td>3</td>\n",
       "      <td>3</td>\n",
       "      <td>three 2</td>\n",
       "    </tr>\n",
       "    <tr>\n",
       "      <th>3</th>\n",
       "      <td>4</td>\n",
       "      <td>4</td>\n",
       "      <td>four w</td>\n",
       "    </tr>\n",
       "    <tr>\n",
       "      <th>4</th>\n",
       "      <td>5</td>\n",
       "      <td>5</td>\n",
       "      <td>five 4</td>\n",
       "    </tr>\n",
       "    <tr>\n",
       "      <th>5</th>\n",
       "      <td>6</td>\n",
       "      <td>6</td>\n",
       "      <td>six g</td>\n",
       "    </tr>\n",
       "    <tr>\n",
       "      <th>6</th>\n",
       "      <td>7</td>\n",
       "      <td>7</td>\n",
       "      <td>seven f</td>\n",
       "    </tr>\n",
       "    <tr>\n",
       "      <th>7</th>\n",
       "      <td>8</td>\n",
       "      <td>8</td>\n",
       "      <td>eight 3</td>\n",
       "    </tr>\n",
       "    <tr>\n",
       "      <th>8</th>\n",
       "      <td>9</td>\n",
       "      <td>9</td>\n",
       "      <td>nine ss</td>\n",
       "    </tr>\n",
       "  </tbody>\n",
       "</table>\n",
       "</div>"
      ],
      "text/plain": [
       "   first  second     last\n",
       "0      1       1    one n\n",
       "1      2       2    two w\n",
       "2      3       3  three 2\n",
       "3      4       4   four w\n",
       "4      5       5   five 4\n",
       "5      6       6    six g\n",
       "6      7       7  seven f\n",
       "7      8       8  eight 3\n",
       "8      9       9  nine ss"
      ]
     },
     "execution_count": 69,
     "metadata": {},
     "output_type": "execute_result"
    }
   ],
   "source": [
    "df"
   ]
  },
  {
   "cell_type": "code",
   "execution_count": 70,
   "id": "0c28e15a",
   "metadata": {},
   "outputs": [
    {
     "data": {
      "text/html": [
       "<div>\n",
       "<style scoped>\n",
       "    .dataframe tbody tr th:only-of-type {\n",
       "        vertical-align: middle;\n",
       "    }\n",
       "\n",
       "    .dataframe tbody tr th {\n",
       "        vertical-align: top;\n",
       "    }\n",
       "\n",
       "    .dataframe thead th {\n",
       "        text-align: right;\n",
       "    }\n",
       "</style>\n",
       "<table border=\"1\" class=\"dataframe\">\n",
       "  <thead>\n",
       "    <tr style=\"text-align: right;\">\n",
       "      <th></th>\n",
       "      <th>0</th>\n",
       "      <th>1</th>\n",
       "    </tr>\n",
       "  </thead>\n",
       "  <tbody>\n",
       "    <tr>\n",
       "      <th>0</th>\n",
       "      <td>one</td>\n",
       "      <td>n</td>\n",
       "    </tr>\n",
       "    <tr>\n",
       "      <th>1</th>\n",
       "      <td>two</td>\n",
       "      <td>w</td>\n",
       "    </tr>\n",
       "    <tr>\n",
       "      <th>2</th>\n",
       "      <td>three</td>\n",
       "      <td>2</td>\n",
       "    </tr>\n",
       "    <tr>\n",
       "      <th>3</th>\n",
       "      <td>four</td>\n",
       "      <td>w</td>\n",
       "    </tr>\n",
       "    <tr>\n",
       "      <th>4</th>\n",
       "      <td>five</td>\n",
       "      <td>4</td>\n",
       "    </tr>\n",
       "    <tr>\n",
       "      <th>5</th>\n",
       "      <td>six</td>\n",
       "      <td>g</td>\n",
       "    </tr>\n",
       "    <tr>\n",
       "      <th>6</th>\n",
       "      <td>seven</td>\n",
       "      <td>f</td>\n",
       "    </tr>\n",
       "    <tr>\n",
       "      <th>7</th>\n",
       "      <td>eight</td>\n",
       "      <td>3</td>\n",
       "    </tr>\n",
       "    <tr>\n",
       "      <th>8</th>\n",
       "      <td>nine</td>\n",
       "      <td>ss</td>\n",
       "    </tr>\n",
       "  </tbody>\n",
       "</table>\n",
       "</div>"
      ],
      "text/plain": [
       "       0   1\n",
       "0    one   n\n",
       "1    two   w\n",
       "2  three   2\n",
       "3   four   w\n",
       "4   five   4\n",
       "5    six   g\n",
       "6  seven   f\n",
       "7  eight   3\n",
       "8   nine  ss"
      ]
     },
     "execution_count": 70,
     "metadata": {},
     "output_type": "execute_result"
    }
   ],
   "source": [
    "df['last'].str.split(' ',expand=True)  #split a column into multiple columns"
   ]
  },
  {
   "cell_type": "code",
   "execution_count": 71,
   "id": "d07da652",
   "metadata": {},
   "outputs": [],
   "source": [
    "df[['new1','new2']]=df['last'].str.split(' ',expand=True)  #split a column into multiple columns and add to dataframe"
   ]
  },
  {
   "cell_type": "code",
   "execution_count": 72,
   "id": "3d231c21",
   "metadata": {},
   "outputs": [
    {
     "data": {
      "text/html": [
       "<div>\n",
       "<style scoped>\n",
       "    .dataframe tbody tr th:only-of-type {\n",
       "        vertical-align: middle;\n",
       "    }\n",
       "\n",
       "    .dataframe tbody tr th {\n",
       "        vertical-align: top;\n",
       "    }\n",
       "\n",
       "    .dataframe thead th {\n",
       "        text-align: right;\n",
       "    }\n",
       "</style>\n",
       "<table border=\"1\" class=\"dataframe\">\n",
       "  <thead>\n",
       "    <tr style=\"text-align: right;\">\n",
       "      <th></th>\n",
       "      <th>first</th>\n",
       "      <th>second</th>\n",
       "      <th>last</th>\n",
       "      <th>new1</th>\n",
       "      <th>new2</th>\n",
       "    </tr>\n",
       "  </thead>\n",
       "  <tbody>\n",
       "    <tr>\n",
       "      <th>0</th>\n",
       "      <td>1</td>\n",
       "      <td>1</td>\n",
       "      <td>one n</td>\n",
       "      <td>one</td>\n",
       "      <td>n</td>\n",
       "    </tr>\n",
       "    <tr>\n",
       "      <th>1</th>\n",
       "      <td>2</td>\n",
       "      <td>2</td>\n",
       "      <td>two w</td>\n",
       "      <td>two</td>\n",
       "      <td>w</td>\n",
       "    </tr>\n",
       "    <tr>\n",
       "      <th>2</th>\n",
       "      <td>3</td>\n",
       "      <td>3</td>\n",
       "      <td>three 2</td>\n",
       "      <td>three</td>\n",
       "      <td>2</td>\n",
       "    </tr>\n",
       "    <tr>\n",
       "      <th>3</th>\n",
       "      <td>4</td>\n",
       "      <td>4</td>\n",
       "      <td>four w</td>\n",
       "      <td>four</td>\n",
       "      <td>w</td>\n",
       "    </tr>\n",
       "    <tr>\n",
       "      <th>4</th>\n",
       "      <td>5</td>\n",
       "      <td>5</td>\n",
       "      <td>five 4</td>\n",
       "      <td>five</td>\n",
       "      <td>4</td>\n",
       "    </tr>\n",
       "    <tr>\n",
       "      <th>5</th>\n",
       "      <td>6</td>\n",
       "      <td>6</td>\n",
       "      <td>six g</td>\n",
       "      <td>six</td>\n",
       "      <td>g</td>\n",
       "    </tr>\n",
       "    <tr>\n",
       "      <th>6</th>\n",
       "      <td>7</td>\n",
       "      <td>7</td>\n",
       "      <td>seven f</td>\n",
       "      <td>seven</td>\n",
       "      <td>f</td>\n",
       "    </tr>\n",
       "    <tr>\n",
       "      <th>7</th>\n",
       "      <td>8</td>\n",
       "      <td>8</td>\n",
       "      <td>eight 3</td>\n",
       "      <td>eight</td>\n",
       "      <td>3</td>\n",
       "    </tr>\n",
       "    <tr>\n",
       "      <th>8</th>\n",
       "      <td>9</td>\n",
       "      <td>9</td>\n",
       "      <td>nine ss</td>\n",
       "      <td>nine</td>\n",
       "      <td>ss</td>\n",
       "    </tr>\n",
       "  </tbody>\n",
       "</table>\n",
       "</div>"
      ],
      "text/plain": [
       "   first  second     last   new1 new2\n",
       "0      1       1    one n    one    n\n",
       "1      2       2    two w    two    w\n",
       "2      3       3  three 2  three    2\n",
       "3      4       4   four w   four    w\n",
       "4      5       5   five 4   five    4\n",
       "5      6       6    six g    six    g\n",
       "6      7       7  seven f  seven    f\n",
       "7      8       8  eight 3  eight    3\n",
       "8      9       9  nine ss   nine   ss"
      ]
     },
     "execution_count": 72,
     "metadata": {},
     "output_type": "execute_result"
    }
   ],
   "source": [
    "df"
   ]
  },
  {
   "cell_type": "code",
   "execution_count": 73,
   "id": "80b3b33b",
   "metadata": {},
   "outputs": [
    {
     "name": "stderr",
     "output_type": "stream",
     "text": [
      "C:\\Users\\Haroon\\AppData\\Local\\Temp\\ipykernel_14192\\4078804114.py:1: FutureWarning: The frame.append method is deprecated and will be removed from pandas in a future version. Use pandas.concat instead.\n",
      "  df.append({'first':10,'second':10,'last':'ten 10'},ignore_index=True)  #add a row to dataframe\n"
     ]
    },
    {
     "data": {
      "text/html": [
       "<div>\n",
       "<style scoped>\n",
       "    .dataframe tbody tr th:only-of-type {\n",
       "        vertical-align: middle;\n",
       "    }\n",
       "\n",
       "    .dataframe tbody tr th {\n",
       "        vertical-align: top;\n",
       "    }\n",
       "\n",
       "    .dataframe thead th {\n",
       "        text-align: right;\n",
       "    }\n",
       "</style>\n",
       "<table border=\"1\" class=\"dataframe\">\n",
       "  <thead>\n",
       "    <tr style=\"text-align: right;\">\n",
       "      <th></th>\n",
       "      <th>first</th>\n",
       "      <th>second</th>\n",
       "      <th>last</th>\n",
       "      <th>new1</th>\n",
       "      <th>new2</th>\n",
       "    </tr>\n",
       "  </thead>\n",
       "  <tbody>\n",
       "    <tr>\n",
       "      <th>0</th>\n",
       "      <td>1</td>\n",
       "      <td>1</td>\n",
       "      <td>one n</td>\n",
       "      <td>one</td>\n",
       "      <td>n</td>\n",
       "    </tr>\n",
       "    <tr>\n",
       "      <th>1</th>\n",
       "      <td>2</td>\n",
       "      <td>2</td>\n",
       "      <td>two w</td>\n",
       "      <td>two</td>\n",
       "      <td>w</td>\n",
       "    </tr>\n",
       "    <tr>\n",
       "      <th>2</th>\n",
       "      <td>3</td>\n",
       "      <td>3</td>\n",
       "      <td>three 2</td>\n",
       "      <td>three</td>\n",
       "      <td>2</td>\n",
       "    </tr>\n",
       "    <tr>\n",
       "      <th>3</th>\n",
       "      <td>4</td>\n",
       "      <td>4</td>\n",
       "      <td>four w</td>\n",
       "      <td>four</td>\n",
       "      <td>w</td>\n",
       "    </tr>\n",
       "    <tr>\n",
       "      <th>4</th>\n",
       "      <td>5</td>\n",
       "      <td>5</td>\n",
       "      <td>five 4</td>\n",
       "      <td>five</td>\n",
       "      <td>4</td>\n",
       "    </tr>\n",
       "    <tr>\n",
       "      <th>5</th>\n",
       "      <td>6</td>\n",
       "      <td>6</td>\n",
       "      <td>six g</td>\n",
       "      <td>six</td>\n",
       "      <td>g</td>\n",
       "    </tr>\n",
       "    <tr>\n",
       "      <th>6</th>\n",
       "      <td>7</td>\n",
       "      <td>7</td>\n",
       "      <td>seven f</td>\n",
       "      <td>seven</td>\n",
       "      <td>f</td>\n",
       "    </tr>\n",
       "    <tr>\n",
       "      <th>7</th>\n",
       "      <td>8</td>\n",
       "      <td>8</td>\n",
       "      <td>eight 3</td>\n",
       "      <td>eight</td>\n",
       "      <td>3</td>\n",
       "    </tr>\n",
       "    <tr>\n",
       "      <th>8</th>\n",
       "      <td>9</td>\n",
       "      <td>9</td>\n",
       "      <td>nine ss</td>\n",
       "      <td>nine</td>\n",
       "      <td>ss</td>\n",
       "    </tr>\n",
       "    <tr>\n",
       "      <th>9</th>\n",
       "      <td>10</td>\n",
       "      <td>10</td>\n",
       "      <td>ten 10</td>\n",
       "      <td>NaN</td>\n",
       "      <td>NaN</td>\n",
       "    </tr>\n",
       "  </tbody>\n",
       "</table>\n",
       "</div>"
      ],
      "text/plain": [
       "   first  second     last   new1 new2\n",
       "0      1       1    one n    one    n\n",
       "1      2       2    two w    two    w\n",
       "2      3       3  three 2  three    2\n",
       "3      4       4   four w   four    w\n",
       "4      5       5   five 4   five    4\n",
       "5      6       6    six g    six    g\n",
       "6      7       7  seven f  seven    f\n",
       "7      8       8  eight 3  eight    3\n",
       "8      9       9  nine ss   nine   ss\n",
       "9     10      10   ten 10    NaN  NaN"
      ]
     },
     "execution_count": 73,
     "metadata": {},
     "output_type": "execute_result"
    }
   ],
   "source": [
    "df.append({'first':10,'second':10,'last':'ten 10'},ignore_index=True)  #add a row to dataframe "
   ]
  },
  {
   "cell_type": "code",
   "execution_count": 74,
   "id": "a55cba3f",
   "metadata": {},
   "outputs": [],
   "source": [
    "#df.append(df2,ignore_index=True,sort=False)  #add a dataframe to another dataframe"
   ]
  },
  {
   "cell_type": "code",
   "execution_count": 80,
   "id": "b27ac0b1",
   "metadata": {},
   "outputs": [
    {
     "data": {
      "text/html": [
       "<div>\n",
       "<style scoped>\n",
       "    .dataframe tbody tr th:only-of-type {\n",
       "        vertical-align: middle;\n",
       "    }\n",
       "\n",
       "    .dataframe tbody tr th {\n",
       "        vertical-align: top;\n",
       "    }\n",
       "\n",
       "    .dataframe thead th {\n",
       "        text-align: right;\n",
       "    }\n",
       "</style>\n",
       "<table border=\"1\" class=\"dataframe\">\n",
       "  <thead>\n",
       "    <tr style=\"text-align: right;\">\n",
       "      <th></th>\n",
       "      <th>first</th>\n",
       "      <th>second</th>\n",
       "      <th>last</th>\n",
       "      <th>new1</th>\n",
       "      <th>new2</th>\n",
       "    </tr>\n",
       "  </thead>\n",
       "  <tbody>\n",
       "    <tr>\n",
       "      <th>0</th>\n",
       "      <td>1</td>\n",
       "      <td>1</td>\n",
       "      <td>one n</td>\n",
       "      <td>one</td>\n",
       "      <td>n</td>\n",
       "    </tr>\n",
       "    <tr>\n",
       "      <th>1</th>\n",
       "      <td>2</td>\n",
       "      <td>2</td>\n",
       "      <td>two w</td>\n",
       "      <td>two</td>\n",
       "      <td>w</td>\n",
       "    </tr>\n",
       "    <tr>\n",
       "      <th>2</th>\n",
       "      <td>3</td>\n",
       "      <td>3</td>\n",
       "      <td>three 2</td>\n",
       "      <td>three</td>\n",
       "      <td>2</td>\n",
       "    </tr>\n",
       "    <tr>\n",
       "      <th>3</th>\n",
       "      <td>4</td>\n",
       "      <td>4</td>\n",
       "      <td>four w</td>\n",
       "      <td>four</td>\n",
       "      <td>w</td>\n",
       "    </tr>\n",
       "    <tr>\n",
       "      <th>4</th>\n",
       "      <td>5</td>\n",
       "      <td>5</td>\n",
       "      <td>five 4</td>\n",
       "      <td>five</td>\n",
       "      <td>4</td>\n",
       "    </tr>\n",
       "    <tr>\n",
       "      <th>5</th>\n",
       "      <td>6</td>\n",
       "      <td>6</td>\n",
       "      <td>six g</td>\n",
       "      <td>six</td>\n",
       "      <td>g</td>\n",
       "    </tr>\n",
       "    <tr>\n",
       "      <th>6</th>\n",
       "      <td>7</td>\n",
       "      <td>7</td>\n",
       "      <td>seven f</td>\n",
       "      <td>seven</td>\n",
       "      <td>f</td>\n",
       "    </tr>\n",
       "    <tr>\n",
       "      <th>7</th>\n",
       "      <td>8</td>\n",
       "      <td>8</td>\n",
       "      <td>eight 3</td>\n",
       "      <td>eight</td>\n",
       "      <td>3</td>\n",
       "    </tr>\n",
       "    <tr>\n",
       "      <th>8</th>\n",
       "      <td>9</td>\n",
       "      <td>9</td>\n",
       "      <td>nine ss</td>\n",
       "      <td>nine</td>\n",
       "      <td>ss</td>\n",
       "    </tr>\n",
       "  </tbody>\n",
       "</table>\n",
       "</div>"
      ],
      "text/plain": [
       "   first  second     last   new1 new2\n",
       "0      1       1    one n    one    n\n",
       "1      2       2    two w    two    w\n",
       "2      3       3  three 2  three    2\n",
       "3      4       4   four w   four    w\n",
       "4      5       5   five 4   five    4\n",
       "5      6       6    six g    six    g\n",
       "6      7       7  seven f  seven    f\n",
       "7      8       8  eight 3  eight    3\n",
       "8      9       9  nine ss   nine   ss"
      ]
     },
     "execution_count": 80,
     "metadata": {},
     "output_type": "execute_result"
    }
   ],
   "source": [
    "df.drop(index = df[df['first'] == 10].index) #drop a row based on a condition'"
   ]
  },
  {
   "cell_type": "code",
   "execution_count": null,
   "id": "c83cdb08",
   "metadata": {},
   "outputs": [],
   "source": []
  }
 ],
 "metadata": {
  "kernelspec": {
   "display_name": "Python 3 (ipykernel)",
   "language": "python",
   "name": "python3"
  },
  "language_info": {
   "codemirror_mode": {
    "name": "ipython",
    "version": 3
   },
   "file_extension": ".py",
   "mimetype": "text/x-python",
   "name": "python",
   "nbconvert_exporter": "python",
   "pygments_lexer": "ipython3",
   "version": "3.11.0"
  }
 },
 "nbformat": 4,
 "nbformat_minor": 5
}
